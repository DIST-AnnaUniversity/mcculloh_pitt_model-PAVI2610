{
 "cells": [
  {
   "cell_type": "code",
   "execution_count": 3,
   "id": "cfc7a3f5",
   "metadata": {},
   "outputs": [
    {
     "name": "stdout",
     "output_type": "stream",
     "text": [
      "[0 0 1] value 0\n",
      "[0 1 1] value 0\n",
      "[1 0 1] value 0\n",
      "[1 1 1] value 1\n"
     ]
    }
   ],
   "source": [
    "#McCulloh Pitt model for AND model\n",
    "import numpy as np\n",
    "\n",
    "def McAnd(x,w,t):\n",
    "    net = np.dot(x,w)\n",
    "    if net>t:\n",
    "        output = 1\n",
    "    else:\n",
    "        output = 0\n",
    "    return output\n",
    "\n",
    "x0 = np.array([0,0,1])\n",
    "x1 = np.array([0,1,1])\n",
    "x2 = np.array([1,0,1])\n",
    "x3 = np.array([1,1,1])\n",
    "w = np.array([1,1,-1])\n",
    "\n",
    "t = 0\n",
    "ans1 = McAnd(x0,w,t)\n",
    "print (x0, \"value\", ans1)\n",
    "ans2 = McAnd(x1,w,t)\n",
    "print (x1, \"value\", ans2)\n",
    "ans3 = McAnd(x2,w,t)\n",
    "print (x2, \"value\", ans3)\n",
    "ans4 = McAnd(x3,w,t)\n",
    "print (x3, \"value\", ans4)"
   ]
  },
  {
   "cell_type": "code",
   "execution_count": 4,
   "id": "468b6f0a",
   "metadata": {},
   "outputs": [
    {
     "name": "stdout",
     "output_type": "stream",
     "text": [
      "[0 0 1] value 0\n",
      "[0 1 1] value 1\n",
      "[1 0 1] value 1\n",
      "[1 1 1] value 1\n"
     ]
    }
   ],
   "source": [
    "import numpy as np\n",
    "def McOR(x,w,t):\n",
    "    net = np.dot(x,w)\n",
    "    if net>t:\n",
    "        output = 1\n",
    "    else:\n",
    "        output = 0\n",
    "    return output\n",
    "\n",
    "x0 = np.array([0,0,1])\n",
    "x1 = np.array([0,1,1])\n",
    "x2 = np.array([1,0,1])\n",
    "x3 = np.array([1,1,1])\n",
    "w = np.array([5,5,-4])\n",
    "\n",
    "t = 0\n",
    "ans1 = McOR(x0,w,t)\n",
    "print (x0, \"value\", ans1)\n",
    "ans2 = McOR(x1,w,t)\n",
    "print (x1, \"value\", ans2)\n",
    "ans3 = McOR(x2,w,t)\n",
    "print (x2, \"value\", ans3)\n",
    "ans4 = McOR(x3,w,t)\n",
    "print (x3, \"value\", ans4)"
   ]
  },
  {
   "cell_type": "code",
   "execution_count": 5,
   "id": "add78e68",
   "metadata": {},
   "outputs": [
    {
     "ename": "IndentationError",
     "evalue": "expected an indented block (1229870016.py, line 3)",
     "output_type": "error",
     "traceback": [
      "\u001b[1;36m  Input \u001b[1;32mIn [5]\u001b[1;36m\u001b[0m\n\u001b[1;33m    result=[1,0]\u001b[0m\n\u001b[1;37m    ^\u001b[0m\n\u001b[1;31mIndentationError\u001b[0m\u001b[1;31m:\u001b[0m expected an indented block\n"
     ]
    }
   ],
   "source": [
    "def NOT(x):\n",
    "\n",
    "result=[1,0]\n",
    "\n",
    "input1=[0,1]\n",
    "\n",
    "\n",
    "for i in range(-6,-1):\n",
    "\n",
    "sol=[]\n",
    "\n",
    "for k in range(2):\n",
    "\n",
    "y=i*input1[k]\n",
    "\n",
    "if(y>n or y==n):\n",
    "\n",
    "sol.append(1)\n",
    "\n",
    "else:\n",
    "\n",
    "sol.append(0)\n",
    "\n",
    "if(sol==result):\n",
    "\n",
    "return(i)"
   ]
  },
  {
   "cell_type": "code",
   "execution_count": 7,
   "id": "1a9213e5",
   "metadata": {},
   "outputs": [
    {
     "ename": "IndentationError",
     "evalue": "expected an indented block (3678353712.py, line 3)",
     "output_type": "error",
     "traceback": [
      "\u001b[1;36m  Input \u001b[1;32mIn [7]\u001b[1;36m\u001b[0m\n\u001b[1;33m    result=[1,0]\u001b[0m\n\u001b[1;37m    ^\u001b[0m\n\u001b[1;31mIndentationError\u001b[0m\u001b[1;31m:\u001b[0m expected an indented block\n"
     ]
    }
   ],
   "source": [
    "\n",
    "def NOT(x):\n",
    "\n",
    "result=[1,0]\n",
    "\n",
    "input1=[0,1]\n",
    "\n",
    "\n",
    "for i in range(-6,-1):\n",
    "\n",
    "sol=[]\n",
    "\n",
    "for k in range(2):\n",
    "\n",
    "y=i*input1[k]\n",
    "\n",
    "if(y>n or y==n):\n",
    "\n",
    "sol.append(1)\n",
    "\n",
    "else:\n",
    "\n",
    "sol.append(0)\n",
    "\n",
    "if(sol==result):\n",
    "\n",
    "return(i)"
   ]
  },
  {
   "cell_type": "code",
   "execution_count": 8,
   "id": "633c10d7",
   "metadata": {},
   "outputs": [
    {
     "name": "stdout",
     "output_type": "stream",
     "text": [
      "[0 1] value 1\n",
      "[1 1] value 0\n"
     ]
    }
   ],
   "source": [
    "def McNOT(x,w,t):\n",
    "    net = np.dot(x,w)\n",
    "    if net>t:\n",
    "        output = 1\n",
    "    else:\n",
    "        output = 0\n",
    "    return output\n",
    "\n",
    "x0 = np.array([0,1])\n",
    "x1 = np.array([1,1])\n",
    "\n",
    "w = np.array([-1,1])\n",
    "\n",
    "t = 0\n",
    "ans1 = McNOT(x0,w,t)\n",
    "print (x0, \"value\", ans1)\n",
    "ans2 = McNOT(x1,w,t)\n",
    "print (x1, \"value\", ans2)\n"
   ]
  },
  {
   "cell_type": "code",
   "execution_count": null,
   "id": "13f81d1a",
   "metadata": {},
   "outputs": [],
   "source": []
  }
 ],
 "metadata": {
  "kernelspec": {
   "display_name": "Python 3 (ipykernel)",
   "language": "python",
   "name": "python3"
  },
  "language_info": {
   "codemirror_mode": {
    "name": "ipython",
    "version": 3
   },
   "file_extension": ".py",
   "mimetype": "text/x-python",
   "name": "python",
   "nbconvert_exporter": "python",
   "pygments_lexer": "ipython3",
   "version": "3.9.12"
  }
 },
 "nbformat": 4,
 "nbformat_minor": 5
}
