{
 "cells": [
  {
   "cell_type": "code",
   "execution_count": null,
   "id": "d5bd67b6",
   "metadata": {},
   "outputs": [],
   "source": [
    "#This is a toy problem explaining Hebbian Learning\n",
    "#This is an unsupervised Learning\n",
    "import numpy as np\n",
    "X = np.array([[1,-2,1.5,0],[0,1.5,-0.5,-1],[-1,1,0.5,-1],])\n",
    "print \"Inputs\", X\n",
    "w = ([1,-1,0,0.5])\n",
    "print \"initial weights\", w\n",
    "iterations = 7\n",
    "alpha = 1\n",
    "print \"Training\"\n",
    "print \"------------\"\n",
    "for n in range(1,iterations):\n",
    "    for i, x in enumerate(X):\n",
    "        net = np.dot(X[i],w)\n",
    "        if net >0:\n",
    "            out = 1\n",
    "        else:\n",
    "            out = -1\n",
    "        delta_w = (alpha)*(out)*x\n",
    "        w = w + delta_w\n",
    "        print \"------------\"\n",
    "        print \"input x\",x\n",
    "        print n, i, w\n",
    "        print \"output\",out\n",
    "        print \"------------\"\n",
    "print \"Final sets of weights\", w"
   ]
  }
 ],
 "metadata": {
  "kernelspec": {
   "display_name": "Python 3 (ipykernel)",
   "language": "python",
   "name": "python3"
  },
  "language_info": {
   "codemirror_mode": {
    "name": "ipython",
    "version": 3
   },
   "file_extension": ".py",
   "mimetype": "text/x-python",
   "name": "python",
   "nbconvert_exporter": "python",
   "pygments_lexer": "ipython3",
   "version": "3.9.12"
  }
 },
 "nbformat": 4,
 "nbformat_minor": 5
}
